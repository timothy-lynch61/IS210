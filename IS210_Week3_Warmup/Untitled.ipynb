{
 "cells": [
  {
   "cell_type": "markdown",
   "metadata": {},
   "source": [
    "# Week 3 Warm up\n",
    "\n",
    "\n",
    "## Task 01\n",
    "Specifications\n",
    "Add the following line of code in a new Jupyter notebook\n",
    "\n",
    "<b>RAVEN = 'quoth'</b>\n",
    "After the line above, add a new line and assign a new value of Nevermore! to the RAVEN variable.\n",
    "\n",
    "Note\n",
    "\n",
    "Do not change the existing variable declaration. Add a new line instead.\n",
    "\n",
    "Final Output (This should be your last line of code and produce the same result as what is shown below)<br>\n",
    "print RAVEN<br>\n",
    "Nevermore!"
   ]
  },
  {
   "cell_type": "code",
   "execution_count": 3,
   "metadata": {},
   "outputs": [
    {
     "name": "stdout",
     "output_type": "stream",
     "text": [
      "Nevermore!\n"
     ]
    }
   ],
   "source": [
    "RAVEN = 'quoth'\n",
    "RAVEN = 'Nevermore!'\n",
    "print(RAVEN)"
   ]
  },
  {
   "cell_type": "markdown",
   "metadata": {},
   "source": [
    "## Task 2 \n"
   ]
  },
  {
   "cell_type": "code",
   "execution_count": null,
   "metadata": {},
   "outputs": [],
   "source": []
  }
 ],
 "metadata": {
  "kernelspec": {
   "display_name": "Python 3",
   "language": "python",
   "name": "python3"
  },
  "language_info": {
   "codemirror_mode": {
    "name": "ipython",
    "version": 3
   },
   "file_extension": ".py",
   "mimetype": "text/x-python",
   "name": "python",
   "nbconvert_exporter": "python",
   "pygments_lexer": "ipython3",
   "version": "3.7.1"
  }
 },
 "nbformat": 4,
 "nbformat_minor": 2
}
