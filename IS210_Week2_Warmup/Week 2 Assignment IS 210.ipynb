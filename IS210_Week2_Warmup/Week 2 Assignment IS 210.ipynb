{
 "cells": [
  {
   "cell_type": "markdown",
   "metadata": {},
   "source": [
    "## Week 2 Warmup for IS 210\n",
    "Student: Tim Lynch\n",
    "\n",
    "Task 01\n",
    "Run a simple script in your notebook\n",
    "\n",
    "Specifications\n",
    "Open a new Jupyter notebook\n",
    "Paste the code below and ensure it runs appropriately. When running it, you should see a prompt asking for your name followed by a greeting once you hit the enter key.\n",
    "\n",
    "name = raw_input(\"What is your name?\")<br>\n",
    "print (\"Hi, \" + name)"
   ]
  },
  {
   "cell_type": "code",
   "execution_count": 6,
   "metadata": {},
   "outputs": [
    {
     "name": "stdout",
     "output_type": "stream",
     "text": [
      "What is your name? Tim\n",
      "Hi Tim\n"
     ]
    }
   ],
   "source": [
    "name = input(\"What is your name? \")\n",
    "print (\"Hi \" + name)"
   ]
  },
  {
   "cell_type": "code",
   "execution_count": 7,
   "metadata": {},
   "outputs": [
    {
     "name": "stdout",
     "output_type": "stream",
     "text": [
      "Where are you located? Boston\n",
      "Wow, I always wanted to go to Boston\n"
     ]
    }
   ],
   "source": [
    "location = input(\"Where are you located? \")\n",
    "print (\"Wow, I always wanted to go to \" + location)"
   ]
  }
 ],
 "metadata": {
  "kernelspec": {
   "display_name": "Python 3",
   "language": "python",
   "name": "python3"
  },
  "language_info": {
   "codemirror_mode": {
    "name": "ipython",
    "version": 3
   },
   "file_extension": ".py",
   "mimetype": "text/x-python",
   "name": "python",
   "nbconvert_exporter": "python",
   "pygments_lexer": "ipython3",
   "version": "3.7.1"
  }
 },
 "nbformat": 4,
 "nbformat_minor": 2
}
